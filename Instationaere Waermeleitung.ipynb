{
 "cells": [
  {
   "cell_type": "markdown",
   "metadata": {},
   "source": [
    "# Aufgabe 2.8 - Instationäre Wärmeleitung"
   ]
  },
  {
   "cell_type": "code",
   "execution_count": 1,
   "metadata": {},
   "outputs": [],
   "source": [
    "import numpy as np\n",
    "import matplotlib.pyplot as plt\n",
    "from ipywidgets import interact, interactive, fixed, interact_manual\n",
    "import ipywidgets as widgets\n",
    "from matplotlib import animation\n",
    "np.set_printoptions(linewidth=150)\n",
    "%matplotlib widget"
   ]
  },
  {
   "cell_type": "code",
   "execution_count": 2,
   "metadata": {},
   "outputs": [],
   "source": [
    "class rb():\n",
    "    position = 10\n",
    "    def __init__(self, position):\n",
    "        self.position = position\n",
    "    def apply(self, systemmatrix, rhs, delta_x):\n",
    "        pass\n",
    "class neumann(rb):\n",
    "    waermestrom = 5\n",
    "    def __init__(self, position, waermestrom):\n",
    "        super(neumann,self).__init__(position)\n",
    "        self.waermestrom = waermestrom\n",
    "    def apply(self, systemmatrix, rhs, delta_x):\n",
    "        if (self.position == 0):\n",
    "            # Vorwärtsdifferenz\n",
    "            systemmatrix[self.position, 0:2] = (1, -1)\n",
    "        elif (self.position < len(rhs)):\n",
    "            # Rückwärtsdifferenz\n",
    "            systemmatrix[self.position, self.position-1:self.position+1] = (-1, 1)\n",
    "        else:\n",
    "            raise ValueError(\"Out of bounds\")\n",
    "        rhs[self.position] = rhs[self.position] + self.waermestrom * delta_x\n",
    "class dirichlet(rb):\n",
    "    temperatur = 5\n",
    "    def __init__(self, position, temperatur):\n",
    "        super(dirichlet,self).__init__(position)\n",
    "        self.temperatur = temperatur\n",
    "    def apply(self, systemmatrix, rhs, delta_x):\n",
    "        if (self.position > len(rhs)):\n",
    "            raise ValueError(\"Out of bounds\")\n",
    "        systemmatrix[self.position, self.position] = 1\n",
    "        rhs[self.position] = rhs[self.position] + self.temperatur\n",
    "class waermequelle(rb):\n",
    "    staerke = 5\n",
    "    kappa = 10\n",
    "    def __init__(self, position, staerke):\n",
    "        super(waermequelle,self).__init__(position)\n",
    "        self.staerke = staerke\n",
    "    def apply(self, systemmatrix, rhs, delta_x):\n",
    "        rhs[self.position] = rhs[self.position] + self.staerke * delta_x**2 / self.kappa"
   ]
  },
  {
   "cell_type": "code",
   "execution_count": 3,
   "metadata": {},
   "outputs": [],
   "source": [
    "def assemble(knoten, l, kappa, Pe, rben, alpha):\n",
    "    delta_x = l / (knoten-1)\n",
    "    U = Pe * kappa / l\n",
    "    systemmatrix = np.zeros((knoten, knoten))\n",
    "    rhs = np.zeros((knoten))\n",
    "    for i in range(1, knoten-1):\n",
    "        systemmatrix[i, i-1:i+2] = kappa / delta_x**2 * np.array((-1, 2, -1)) * alpha\n",
    "        systemmatrix[i, i-1:i+2] = systemmatrix[i, i-1:i+2] + 0.5 * U / delta_x * np.array((-1, 0, 1)) * alpha\n",
    "    for rb in rben:\n",
    "        rb.apply(systemmatrix, rhs, delta_x)        \n",
    "    return systemmatrix, rhs\n",
    "def solve(knoten, l, kappa, Pe, rben, zentraldifferenz):\n",
    "    systemmatrix, rhs = assemble(knoten, l, kappa, Pe, rben, zentraldifferenz)\n",
    "    solution = np.linalg.solve(systemmatrix, rhs)\n",
    "    return np.linspace(0, l, knoten), solution, systemmatrix, rhs"
   ]
  },
  {
   "cell_type": "markdown",
   "metadata": {},
   "source": [
    "### Aufgabe 2.8.1 / 2.8.2\n",
    "\n",
    "Anfangsbedingung für Temperatur: Temperatur ist überall $T(L)$ außer am ersten Knoten, dort $T(0)$"
   ]
  },
  {
   "cell_type": "code",
   "execution_count": 4,
   "metadata": {},
   "outputs": [
    {
     "name": "stderr",
     "output_type": "stream",
     "text": [
      "c:\\users\\jonat\\appdata\\local\\programs\\python\\python37\\lib\\site-packages\\ipykernel_launcher.py:24: RuntimeWarning: overflow encountered in matmul\n"
     ]
    }
   ],
   "source": [
    "knoten = 200\n",
    "t_vorne = 50\n",
    "t_hinten = 200\n",
    "rb_vorne = dirichlet(0, t_vorne)\n",
    "rb_hinten = dirichlet(knoten-1, t_hinten)\n",
    "l = 10\n",
    "Pe = 10\n",
    "kappa = 10\n",
    "U = Pe * kappa / l\n",
    "delta_x = l / (knoten-1)\n",
    "delta_t = 0.01\n",
    "endtime = 2\n",
    "timesteps = int(endtime / delta_t)\n",
    "clf = (U + kappa / delta_x)/(delta_x / delta_t)\n",
    "results = {}\n",
    "\n",
    "for alpha in [0, 0.5, 1]:\n",
    "    T = np.zeros((timesteps+1, knoten))\n",
    "    T[0] = np.ones((knoten)) * t_hinten\n",
    "    T[0][0] = t_vorne\n",
    "    A = assemble(knoten, l, kappa, Pe, [], alpha)[0] * delta_t + np.eye(knoten)\n",
    "    B = assemble(knoten, l, kappa, Pe, [], -(1-alpha))[0]\n",
    "    for i in range(1, timesteps+1):\n",
    "        rhs = np.matmul(B * delta_t + np.eye(knoten), T[i-1])\n",
    "        T[i] = np.linalg.solve(A, rhs)\n",
    "    results[alpha] = T\n"
   ]
  },
  {
   "cell_type": "code",
   "execution_count": 5,
   "metadata": {},
   "outputs": [],
   "source": [
    "def plot(time=0):\n",
    "    plt.figure(figsize=(16, 5))\n",
    "    for alpha in [0, 0.5, 1]:\n",
    "        plt.subplot(1, 3, int(alpha *2)+1)\n",
    "        plt.plot(np.linspace(0, l, knoten), results[alpha][int(time/delta_t)])\n",
    "        plt.title(\"alpha = {}\".format(alpha))\n",
    "    plt.show()"
   ]
  },
  {
   "cell_type": "code",
   "execution_count": 6,
   "metadata": {},
   "outputs": [
    {
     "data": {
      "application/vnd.jupyter.widget-view+json": {
       "model_id": "28ff85d493cc42a290950513934bd571",
       "version_major": 2,
       "version_minor": 0
      },
      "text/plain": [
       "interactive(children=(FloatSlider(value=0.0, description='time', max=2.0), Output()), _dom_classes=('widget-in…"
      ]
     },
     "metadata": {},
     "output_type": "display_data"
    },
    {
     "name": "stdout",
     "output_type": "stream",
     "text": [
      "CLF: 41.590999999999994\n"
     ]
    }
   ],
   "source": [
    "interact(plot, time=widgets.FloatSlider(min=0, max=endtime, step=delta_t * 10, value=0))\n",
    "print(\"CLF: {}\".format(clf))"
   ]
  },
  {
   "cell_type": "markdown",
   "metadata": {},
   "source": [
    "### Aufgabe 2.8.3\n",
    "Validierung mit stationärer Lösung:"
   ]
  },
  {
   "cell_type": "code",
   "execution_count": 7,
   "metadata": {},
   "outputs": [],
   "source": [
    "Pe = -10\n",
    "knoten = 51\n",
    "xan = np.linspace(0, l, knoten)\n",
    "yan = [t_vorne + (np.exp(xv * Pe / l) - 1)/(np.exp(Pe) - 1) * (t_hinten - t_vorne) for xv in xan]"
   ]
  },
  {
   "cell_type": "code",
   "execution_count": 8,
   "metadata": {},
   "outputs": [
    {
     "data": {
      "image/png": "[encoded data removed]",
      "text/plain": [
       "<Figure size 432x288 with 1 Axes>"
      ]
     },
     "metadata": {
      "needs_background": "light"
     },
     "output_type": "display_data"
    }
   ],
   "source": [
    "rb_vorne = dirichlet(0, t_vorne)\n",
    "rb_hinten = dirichlet(knoten-1, t_hinten)\n",
    "kappa = 10\n",
    "U = Pe * kappa / l\n",
    "delta_x = l / (knoten-1)\n",
    "delta_t = 0.1\n",
    "endtime = 2\n",
    "timesteps = int(endtime / delta_t)\n",
    "clf = (U + kappa / delta_x)/(delta_x / delta_t)\n",
    "results = {}\n",
    "for alpha in [0, 0.5, 1]:\n",
    "    T = np.zeros((timesteps+1, knoten))\n",
    "    T[0] = yan\n",
    "    A = assemble(knoten, l, kappa, Pe, [], alpha)[0] * delta_t + np.eye(knoten)\n",
    "    B = assemble(knoten, l, kappa, Pe, [], -(1-alpha))[0]\n",
    "    for i in range(1, timesteps+1):\n",
    "        rhs = np.matmul(B * delta_t + np.eye(knoten), T[i-1])\n",
    "        T[i] = np.linalg.solve(A, rhs)\n",
    "    results[alpha] = T\n",
    "    plt.plot(np.linspace(0, l, knoten), results[alpha][1], \".\", label=r\"$\\alpha=${}\".format(alpha))\n",
    "plt.title(\"Vergleich mit stationärer Lösung, $t=2s$, $Pe=-10$\")\n",
    "plt.xlabel(\"Ort [m]\")\n",
    "plt.ylabel(\"Temperatur [K]\")\n",
    "plt.legend()\n",
    "plt.plot(xan, results[0.5][20])\n",
    "plt.show()"
   ]
  },
  {
   "cell_type": "markdown",
   "metadata": {},
   "source": [
    "Stabilität der Verfahren:"
   ]
  },
  {
   "cell_type": "code",
   "execution_count": 9,
   "metadata": {},
   "outputs": [],
   "source": [
    "knoten = 50\n",
    "l = 10\n",
    "Pe = 10\n",
    "kappa = 10\n",
    "U = Pe * kappa / l\n",
    "delta_x = l / (knoten-1)\n",
    "results = []\n",
    "clfzahlen = [0.1, 0.5, 0.603, 0.605, 0.7, 0.8, 0.9, 1, 1.1, 1.2, 1.5, 2, 5, 9, 10, 11, 15]\n",
    "for clf in clfzahlen:\n",
    "    delta_t = clf * delta_x / (U + kappa / delta_x)\n",
    "    endtime = 2\n",
    "    timesteps = int(endtime / delta_t)\n",
    "    for alpha in [0, 0.5, 1]:\n",
    "        T = np.zeros((timesteps+1, knoten))\n",
    "        T[0] = np.ones((knoten)) * t_hinten\n",
    "        T[0][0] = t_vorne\n",
    "        A = assemble(knoten, l, kappa, Pe, [], alpha)[0] * delta_t + np.eye(knoten)\n",
    "        B = assemble(knoten, l, kappa, Pe, [], -(1-alpha))[0]\n",
    "        for i in range(1, timesteps+1):\n",
    "            rhs = np.matmul(B * delta_t + np.eye(knoten), T[i-1])\n",
    "            T[i] = np.linalg.solve(A, rhs)\n",
    "        results = results + [[clf, alpha, delta_t, T, (T[-1][0] - 2*T[-1, 1] + T[-1, 2])/delta_x**2]]\n",
    "results = np.array(results)"
   ]
  },
  {
   "cell_type": "code",
   "execution_count": 10,
   "metadata": {},
   "outputs": [
    {
     "data": {
      "image/png": "[encoded data removed]",
      "text/plain": [
       "<Figure size 1152x432 with 3 Axes>"
      ]
     },
     "metadata": {
      "needs_background": "light"
     },
     "output_type": "display_data"
    }
   ],
   "source": [
    "plt.figure(figsize=(16,6))\n",
    "horizontal = np.array(range(0, 2))\n",
    "counter = 0\n",
    "index = 0\n",
    "bar_width = 0.1\n",
    "for alpha in [0, 0.5, 1]:\n",
    "    index = index + 1\n",
    "    aloesungen = results[np.where(results[:,1]==alpha)]\n",
    "    ax = plt.subplot(1, 3, index)\n",
    "    plt.ylabel(\"2. Ableitung der Temperatur, t=2s\")\n",
    "    ax.set_ylim([0,1])\n",
    "    ax.set_xscale('log')\n",
    "    plt.title(\"alpha = {}\".format(alpha))\n",
    "    knotencounter = 0\n",
    "    clfloesungen = aloesungen[:,4]\n",
    "    plt.plot(clfzahlen, abs(clfloesungen), \"o-\")\n",
    "    "
   ]
  },
  {
   "cell_type": "markdown",
   "metadata": {},
   "source": [
    "Ergebnis: \n",
    "* Euler explizit bleibt stabil bis etwa $CLF=0.603$\n",
    "* Crank-Nicholson bleibt stabil bis etwa $CLF=11$"
   ]
  },
  {
   "cell_type": "code",
   "execution_count": null,
   "metadata": {},
   "outputs": [],
   "source": []
  }
 ],
 "metadata": {
  "kernelspec": {
   "display_name": "Python 3",
   "language": "python",
   "name": "python3"
  },
  "language_info": {
   "codemirror_mode": {
    "name": "ipython",
    "version": 3
   },
   "file_extension": ".py",
   "mimetype": "text/x-python",
   "name": "python",
   "nbconvert_exporter": "python",
   "pygments_lexer": "ipython3",
   "version": "3.7.2"
  }
 },
 "nbformat": 4,
 "nbformat_minor": 2
}
