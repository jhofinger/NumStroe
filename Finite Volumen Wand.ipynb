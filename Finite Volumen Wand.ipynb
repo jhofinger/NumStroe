{
 "cells": [
  {
   "cell_type": "markdown",
   "metadata": {},
   "source": [
    "# Aufgabe 4.2"
   ]
  },
  {
   "cell_type": "code",
   "execution_count": 1,
   "metadata": {},
   "outputs": [],
   "source": [
    "import numpy as np\n",
    "import matplotlib.pyplot as plt\n",
    "np.set_printoptions(linewidth=200)"
   ]
  },
  {
   "cell_type": "markdown",
   "metadata": {},
   "source": [
    "### Aufgabe 4.2.1 - 4.2.3\n",
    "\n",
    "Zelle, Mesh und Solver sowie RBen\n",
    "\n",
    "Der Solver kümmert sich automatisch zwischen den Übergang zwischen den Platten - kappa ist stückweise definiert und die Breite der Zellen ist in den Zellen enthalten"
   ]
  },
  {
   "cell_type": "code",
   "execution_count": 2,
   "metadata": {},
   "outputs": [],
   "source": [
    "class cell:\n",
    "    normals = np.array([(0, 1, 0), (1, 0, 0), (0, -1, 0), (-1, 0, 0), (0, 0, -1), (0, 0, 1)])\n",
    "    \n",
    "    def __init__(self, position, dimensions):\n",
    "        self.position = np.array(position)\n",
    "        self.dimensions = np.array(dimensions)\n",
    "        # N, E, S, W, V, H\n",
    "        areas = [(np.abs(n) - 1)* dimensions for n in self.normals]\n",
    "        self.areas = [(1 if i[0] == 0 else i[0]) * (1 if i[1] == 0 else i[1]) * (1 if i[2] == 0 else i[2]) for i in areas]\n",
    "class equidistant1DMesh:\n",
    "    def __init__(self, width, dimensions, start_x):\n",
    "        delta_x, delta_y, delta_z = dimensions\n",
    "        n_x = int(width / delta_x)\n",
    "        cells = []\n",
    "        for x in np.linspace(start_x, width + start_x, n_x, endpoint=False):\n",
    "            center = x + delta_x / 2\n",
    "            newcell = cell((center, 0, 0), dimensions)\n",
    "            #print(newcell.position)\n",
    "            cells += [newcell]\n",
    "        self.cells = cells\n",
    "        self.length = len(self.cells)\n",
    "    def join(self, other):\n",
    "        self.cells += other.cells\n",
    "        self.length = len(self.cells)\n",
    "    def getLeft(self, n):\n",
    "        return n-1\n",
    "    def hasLeft(self, n):\n",
    "        return n != 0\n",
    "    def getRight(self, n):\n",
    "        return n+1\n",
    "    def hasRight(self, n):\n",
    "        return n != len(self.cells) - 1\n",
    "class solver:\n",
    "    def __init__(self, mesh):\n",
    "        self.mesh = mesh\n",
    "    def assemble(self, kappa):\n",
    "        self.A = np.zeros((self.mesh.length, self.mesh.length))\n",
    "        self.rhs = np.zeros((self.mesh.length))\n",
    "        for i in range(self.mesh.length):\n",
    "            if self.mesh.hasLeft(i) and self.mesh.hasRight(i):\n",
    "                delta_x_w = (self.mesh.cells[i].position - self.mesh.cells[self.mesh.getLeft(i)].position)[0]\n",
    "                delta_x_e = (self.mesh.cells[self.mesh.getRight(i)].position - self.mesh.cells[i].position)[0]\n",
    "                k_w = kappa(self.mesh.cells[i].position[0] - delta_x_w / 2)\n",
    "                k_e = kappa(self.mesh.cells[i].position[0] + delta_x_e / 2)\n",
    "                A_w = self.mesh.cells[i].areas[3]\n",
    "                A_e = self.mesh.cells[i].areas[1]\n",
    "                n_w = cell.normals[3][0]\n",
    "                n_e = cell.normals[1][0]\n",
    "                self.A[i, self.mesh.getLeft(i)] += - k_w * A_w * n_w / delta_x_w\n",
    "                self.A[i, i] += k_w * A_w * n_w / delta_x_w - k_e * A_e * n_e / delta_x_e\n",
    "                self.A[i, self.mesh.getRight(i)] += k_e * A_e * n_e / delta_x_e\n",
    "    def solve(self, rbs):\n",
    "        for rb in rbs:\n",
    "            rb.apply(self.A, self.rhs)\n",
    "        return np.linalg.solve(self.A, self.rhs)\n",
    "class rb():\n",
    "    position = 10\n",
    "    def __init__(self, position):\n",
    "        self.position = position\n",
    "    def apply(self, systemmatrix, rhs):\n",
    "        pass\n",
    "class neumann(rb):\n",
    "    waermestrom = 5\n",
    "    def __init__(self, position, waermestrom, delta_x):\n",
    "        super(neumann,self).__init__(position)\n",
    "        self.waermestrom = waermestrom\n",
    "        self.delta_x = delta_x\n",
    "    def apply(self, systemmatrix, rhs):\n",
    "        if (self.position == 0):\n",
    "            # Vorwärtsdifferenz\n",
    "            systemmatrix[self.position, 0:2] = (1, -1)\n",
    "        elif (self.position < len(rhs)):\n",
    "            # Rückwärtsdifferenz\n",
    "            systemmatrix[self.position, self.position-1:self.position+1] = (-1, 1)\n",
    "        else:\n",
    "            raise ValueError(\"Out of bounds\")\n",
    "        rhs[self.position] = rhs[self.position] + self.waermestrom * self.delta_x\n",
    "class dirichlet(rb):\n",
    "    temperatur = 5\n",
    "    def __init__(self, position, temperatur):\n",
    "        super(dirichlet,self).__init__(position)\n",
    "        self.temperatur = temperatur\n",
    "    def apply(self, systemmatrix, rhs):\n",
    "        if (self.position > len(rhs)):\n",
    "            raise ValueError(\"Out of bounds\")\n",
    "        systemmatrix[self.position, self.position] = 1\n",
    "        rhs[self.position] = rhs[self.position] + self.temperatur"
   ]
  },
  {
   "cell_type": "markdown",
   "metadata": {},
   "source": [
    "### Aufgabe 4.2.4"
   ]
  },
  {
   "cell_type": "code",
   "execution_count": 3,
   "metadata": {},
   "outputs": [],
   "source": [
    "delta_x1 = 0.1\n",
    "delta_x2 = 0.02\n",
    "delta_y = 0.6\n",
    "delta_z = 0.7\n",
    "width_1 = 0.8\n",
    "width_2 = 0.2"
   ]
  },
  {
   "cell_type": "code",
   "execution_count": 4,
   "metadata": {},
   "outputs": [],
   "source": [
    "m = equidistant1DMesh(width_1, (delta_x1, delta_y, delta_z), 0)\n",
    "m2 = equidistant1DMesh(width_2, (delta_x2, delta_y, delta_z), width_1)\n",
    "m.join(m2)"
   ]
  },
  {
   "cell_type": "code",
   "execution_count": 5,
   "metadata": {},
   "outputs": [],
   "source": [
    "s = solver(m)\n",
    "kappa1 = 20\n",
    "kappa2 = 10\n",
    "def kappa(x):\n",
    "    if x <= width_1:\n",
    "        return kappa1\n",
    "    else:\n",
    "        return kappa2\n",
    "s.assemble(kappa)\n",
    "rb1 = dirichlet(0, 300)\n",
    "rb2 = neumann(m.length - 1, -50, delta_x2)\n",
    "result = s.solve([rb1, rb2])"
   ]
  },
  {
   "cell_type": "code",
   "execution_count": 6,
   "metadata": {},
   "outputs": [
    {
     "data": {
      "image/png": "[encoded data removed]",
      "text/plain": [
       "<Figure size 432x288 with 1 Axes>"
      ]
     },
     "metadata": {
      "needs_background": "light"
     },
     "output_type": "display_data"
    }
   ],
   "source": [
    "plt.plot([i.position[0] for i in m.cells], result, \".-\")\n",
    "plt.grid()\n",
    "plt.title(\"Temperaturverlauf\")\n",
    "plt.ylabel(\"Temperatur [K]\")\n",
    "plt.xlabel(\"Länge [m]\")\n",
    "plt.show()"
   ]
  }
 ],
 "metadata": {
  "kernelspec": {
   "display_name": "Python 3",
   "language": "python",
   "name": "python3"
  },
  "language_info": {
   "codemirror_mode": {
    "name": "ipython",
    "version": 3
   },
   "file_extension": ".py",
   "mimetype": "text/x-python",
   "name": "python",
   "nbconvert_exporter": "python",
   "pygments_lexer": "ipython3",
   "version": "3.7.2"
  }
 },
 "nbformat": 4,
 "nbformat_minor": 2
}
